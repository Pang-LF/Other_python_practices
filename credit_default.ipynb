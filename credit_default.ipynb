{
 "cells": [
  {
   "cell_type": "code",
   "execution_count": 2,
   "metadata": {},
   "outputs": [],
   "source": [
    "import pandas as pd\n",
    "from sklearn.model_selection import learning_curve,train_test_split,GridSearchCV\n",
    "from sklearn.preprocessing import StandardScaler\n",
    "from sklearn.pipeline import Pipeline\n",
    "from sklearn.metrics import accuracy_score\n",
    "from sklearn.svm import SVC\n",
    "from sklearn.tree import DecisionTreeClassifier\n",
    "from sklearn.ensemble import RandomForestClassifier\n",
    "from sklearn.neighbors import KNeighborsClassifier\n",
    "from matplotlib import pyplot as plt\n",
    "import seaborn as sns"
   ]
  },
  {
   "cell_type": "code",
   "execution_count": 3,
   "metadata": {},
   "outputs": [],
   "source": [
    "data = pd.read_csv('./UCI_Credit_Card.csv')"
   ]
  },
  {
   "cell_type": "code",
   "execution_count": 5,
   "metadata": {},
   "outputs": [
    {
     "data": {
      "text/html": [
       "<div>\n",
       "<style scoped>\n",
       "    .dataframe tbody tr th:only-of-type {\n",
       "        vertical-align: middle;\n",
       "    }\n",
       "\n",
       "    .dataframe tbody tr th {\n",
       "        vertical-align: top;\n",
       "    }\n",
       "\n",
       "    .dataframe thead th {\n",
       "        text-align: right;\n",
       "    }\n",
       "</style>\n",
       "<table border=\"1\" class=\"dataframe\">\n",
       "  <thead>\n",
       "    <tr style=\"text-align: right;\">\n",
       "      <th></th>\n",
       "      <th>ID</th>\n",
       "      <th>LIMIT_BAL</th>\n",
       "      <th>SEX</th>\n",
       "      <th>EDUCATION</th>\n",
       "      <th>MARRIAGE</th>\n",
       "      <th>AGE</th>\n",
       "      <th>PAY_0</th>\n",
       "      <th>PAY_2</th>\n",
       "      <th>PAY_3</th>\n",
       "      <th>PAY_4</th>\n",
       "      <th>...</th>\n",
       "      <th>BILL_AMT4</th>\n",
       "      <th>BILL_AMT5</th>\n",
       "      <th>BILL_AMT6</th>\n",
       "      <th>PAY_AMT1</th>\n",
       "      <th>PAY_AMT2</th>\n",
       "      <th>PAY_AMT3</th>\n",
       "      <th>PAY_AMT4</th>\n",
       "      <th>PAY_AMT5</th>\n",
       "      <th>PAY_AMT6</th>\n",
       "      <th>default.payment.next.month</th>\n",
       "    </tr>\n",
       "  </thead>\n",
       "  <tbody>\n",
       "    <tr>\n",
       "      <th>0</th>\n",
       "      <td>1</td>\n",
       "      <td>20000.0</td>\n",
       "      <td>2</td>\n",
       "      <td>2</td>\n",
       "      <td>1</td>\n",
       "      <td>24</td>\n",
       "      <td>2</td>\n",
       "      <td>2</td>\n",
       "      <td>-1</td>\n",
       "      <td>-1</td>\n",
       "      <td>...</td>\n",
       "      <td>0.0</td>\n",
       "      <td>0.0</td>\n",
       "      <td>0.0</td>\n",
       "      <td>0.0</td>\n",
       "      <td>689.0</td>\n",
       "      <td>0.0</td>\n",
       "      <td>0.0</td>\n",
       "      <td>0.0</td>\n",
       "      <td>0.0</td>\n",
       "      <td>1</td>\n",
       "    </tr>\n",
       "    <tr>\n",
       "      <th>1</th>\n",
       "      <td>2</td>\n",
       "      <td>120000.0</td>\n",
       "      <td>2</td>\n",
       "      <td>2</td>\n",
       "      <td>2</td>\n",
       "      <td>26</td>\n",
       "      <td>-1</td>\n",
       "      <td>2</td>\n",
       "      <td>0</td>\n",
       "      <td>0</td>\n",
       "      <td>...</td>\n",
       "      <td>3272.0</td>\n",
       "      <td>3455.0</td>\n",
       "      <td>3261.0</td>\n",
       "      <td>0.0</td>\n",
       "      <td>1000.0</td>\n",
       "      <td>1000.0</td>\n",
       "      <td>1000.0</td>\n",
       "      <td>0.0</td>\n",
       "      <td>2000.0</td>\n",
       "      <td>1</td>\n",
       "    </tr>\n",
       "    <tr>\n",
       "      <th>2</th>\n",
       "      <td>3</td>\n",
       "      <td>90000.0</td>\n",
       "      <td>2</td>\n",
       "      <td>2</td>\n",
       "      <td>2</td>\n",
       "      <td>34</td>\n",
       "      <td>0</td>\n",
       "      <td>0</td>\n",
       "      <td>0</td>\n",
       "      <td>0</td>\n",
       "      <td>...</td>\n",
       "      <td>14331.0</td>\n",
       "      <td>14948.0</td>\n",
       "      <td>15549.0</td>\n",
       "      <td>1518.0</td>\n",
       "      <td>1500.0</td>\n",
       "      <td>1000.0</td>\n",
       "      <td>1000.0</td>\n",
       "      <td>1000.0</td>\n",
       "      <td>5000.0</td>\n",
       "      <td>0</td>\n",
       "    </tr>\n",
       "    <tr>\n",
       "      <th>3</th>\n",
       "      <td>4</td>\n",
       "      <td>50000.0</td>\n",
       "      <td>2</td>\n",
       "      <td>2</td>\n",
       "      <td>1</td>\n",
       "      <td>37</td>\n",
       "      <td>0</td>\n",
       "      <td>0</td>\n",
       "      <td>0</td>\n",
       "      <td>0</td>\n",
       "      <td>...</td>\n",
       "      <td>28314.0</td>\n",
       "      <td>28959.0</td>\n",
       "      <td>29547.0</td>\n",
       "      <td>2000.0</td>\n",
       "      <td>2019.0</td>\n",
       "      <td>1200.0</td>\n",
       "      <td>1100.0</td>\n",
       "      <td>1069.0</td>\n",
       "      <td>1000.0</td>\n",
       "      <td>0</td>\n",
       "    </tr>\n",
       "    <tr>\n",
       "      <th>4</th>\n",
       "      <td>5</td>\n",
       "      <td>50000.0</td>\n",
       "      <td>1</td>\n",
       "      <td>2</td>\n",
       "      <td>1</td>\n",
       "      <td>57</td>\n",
       "      <td>-1</td>\n",
       "      <td>0</td>\n",
       "      <td>-1</td>\n",
       "      <td>0</td>\n",
       "      <td>...</td>\n",
       "      <td>20940.0</td>\n",
       "      <td>19146.0</td>\n",
       "      <td>19131.0</td>\n",
       "      <td>2000.0</td>\n",
       "      <td>36681.0</td>\n",
       "      <td>10000.0</td>\n",
       "      <td>9000.0</td>\n",
       "      <td>689.0</td>\n",
       "      <td>679.0</td>\n",
       "      <td>0</td>\n",
       "    </tr>\n",
       "  </tbody>\n",
       "</table>\n",
       "<p>5 rows × 25 columns</p>\n",
       "</div>"
      ],
      "text/plain": [
       "   ID  LIMIT_BAL  SEX  EDUCATION  MARRIAGE  AGE  PAY_0  PAY_2  PAY_3  PAY_4  \\\n",
       "0   1    20000.0    2          2         1   24      2      2     -1     -1   \n",
       "1   2   120000.0    2          2         2   26     -1      2      0      0   \n",
       "2   3    90000.0    2          2         2   34      0      0      0      0   \n",
       "3   4    50000.0    2          2         1   37      0      0      0      0   \n",
       "4   5    50000.0    1          2         1   57     -1      0     -1      0   \n",
       "\n",
       "   ...  BILL_AMT4  BILL_AMT5  BILL_AMT6  PAY_AMT1  PAY_AMT2  PAY_AMT3  \\\n",
       "0  ...        0.0        0.0        0.0       0.0     689.0       0.0   \n",
       "1  ...     3272.0     3455.0     3261.0       0.0    1000.0    1000.0   \n",
       "2  ...    14331.0    14948.0    15549.0    1518.0    1500.0    1000.0   \n",
       "3  ...    28314.0    28959.0    29547.0    2000.0    2019.0    1200.0   \n",
       "4  ...    20940.0    19146.0    19131.0    2000.0   36681.0   10000.0   \n",
       "\n",
       "   PAY_AMT4  PAY_AMT5  PAY_AMT6  default.payment.next.month  \n",
       "0       0.0       0.0       0.0                           1  \n",
       "1    1000.0       0.0    2000.0                           1  \n",
       "2    1000.0    1000.0    5000.0                           0  \n",
       "3    1100.0    1069.0    1000.0                           0  \n",
       "4    9000.0     689.0     679.0                           0  \n",
       "\n",
       "[5 rows x 25 columns]"
      ]
     },
     "execution_count": 5,
     "metadata": {},
     "output_type": "execute_result"
    }
   ],
   "source": [
    "data.head()"
   ]
  },
  {
   "cell_type": "code",
   "execution_count": 7,
   "metadata": {},
   "outputs": [
    {
     "name": "stdout",
     "output_type": "stream",
     "text": [
      "(30000, 25)\n"
     ]
    }
   ],
   "source": [
    "print(data.shape)"
   ]
  },
  {
   "cell_type": "code",
   "execution_count": 6,
   "metadata": {},
   "outputs": [
    {
     "name": "stdout",
     "output_type": "stream",
     "text": [
      "<bound method NDFrame.describe of           ID  LIMIT_BAL  SEX  EDUCATION  MARRIAGE  AGE  PAY_0  PAY_2  PAY_3  \\\n",
      "0          1    20000.0    2          2         1   24      2      2     -1   \n",
      "1          2   120000.0    2          2         2   26     -1      2      0   \n",
      "2          3    90000.0    2          2         2   34      0      0      0   \n",
      "3          4    50000.0    2          2         1   37      0      0      0   \n",
      "4          5    50000.0    1          2         1   57     -1      0     -1   \n",
      "5          6    50000.0    1          1         2   37      0      0      0   \n",
      "6          7   500000.0    1          1         2   29      0      0      0   \n",
      "7          8   100000.0    2          2         2   23      0     -1     -1   \n",
      "8          9   140000.0    2          3         1   28      0      0      2   \n",
      "9         10    20000.0    1          3         2   35     -2     -2     -2   \n",
      "10        11   200000.0    2          3         2   34      0      0      2   \n",
      "11        12   260000.0    2          1         2   51     -1     -1     -1   \n",
      "12        13   630000.0    2          2         2   41     -1      0     -1   \n",
      "13        14    70000.0    1          2         2   30      1      2      2   \n",
      "14        15   250000.0    1          1         2   29      0      0      0   \n",
      "15        16    50000.0    2          3         3   23      1      2      0   \n",
      "16        17    20000.0    1          1         2   24      0      0      2   \n",
      "17        18   320000.0    1          1         1   49      0      0      0   \n",
      "18        19   360000.0    2          1         1   49      1     -2     -2   \n",
      "19        20   180000.0    2          1         2   29      1     -2     -2   \n",
      "20        21   130000.0    2          3         2   39      0      0      0   \n",
      "21        22   120000.0    2          2         1   39     -1     -1     -1   \n",
      "22        23    70000.0    2          2         2   26      2      0      0   \n",
      "23        24   450000.0    2          1         1   40     -2     -2     -2   \n",
      "24        25    90000.0    1          1         2   23      0      0      0   \n",
      "25        26    50000.0    1          3         2   23      0      0      0   \n",
      "26        27    60000.0    1          1         2   27      1     -2     -1   \n",
      "27        28    50000.0    2          3         2   30      0      0      0   \n",
      "28        29    50000.0    2          3         1   47     -1     -1     -1   \n",
      "29        30    50000.0    1          1         2   26      0      0      0   \n",
      "...      ...        ...  ...        ...       ...  ...    ...    ...    ...   \n",
      "29970  29971   360000.0    1          1         1   34     -1     -1     -1   \n",
      "29971  29972    80000.0    1          3         1   36      0      0      0   \n",
      "29972  29973   190000.0    1          1         1   37      0      0      0   \n",
      "29973  29974   230000.0    1          2         1   35      1     -2     -2   \n",
      "29974  29975    50000.0    1          2         1   37      1      2      2   \n",
      "29975  29976   220000.0    1          2         1   41      0      0     -1   \n",
      "29976  29977    40000.0    1          2         2   47      2      2      3   \n",
      "29977  29978   420000.0    1          1         2   34      0      0      0   \n",
      "29978  29979   310000.0    1          2         1   39      0      0      0   \n",
      "29979  29980   180000.0    1          1         1   32     -2     -2     -2   \n",
      "29980  29981    50000.0    1          3         2   42      0      0      0   \n",
      "29981  29982    50000.0    1          2         1   44      1      2      2   \n",
      "29982  29983    90000.0    1          2         1   36      0      0      0   \n",
      "29983  29984    20000.0    1          2         1   44     -2     -2     -2   \n",
      "29984  29985    30000.0    1          2         2   38     -1     -1     -2   \n",
      "29985  29986   240000.0    1          1         2   30     -2     -2     -2   \n",
      "29986  29987   360000.0    1          1         2   35     -1     -1     -2   \n",
      "29987  29988   130000.0    1          1         2   34      0      0      0   \n",
      "29988  29989   250000.0    1          1         1   34      0      0      0   \n",
      "29989  29990   150000.0    1          1         2   35     -1     -1     -1   \n",
      "29990  29991   140000.0    1          2         1   41      0      0      0   \n",
      "29991  29992   210000.0    1          2         1   34      3      2      2   \n",
      "29992  29993    10000.0    1          3         1   43      0      0      0   \n",
      "29993  29994   100000.0    1          1         2   38      0     -1     -1   \n",
      "29994  29995    80000.0    1          2         2   34      2      2      2   \n",
      "29995  29996   220000.0    1          3         1   39      0      0      0   \n",
      "29996  29997   150000.0    1          3         2   43     -1     -1     -1   \n",
      "29997  29998    30000.0    1          2         2   37      4      3      2   \n",
      "29998  29999    80000.0    1          3         1   41      1     -1      0   \n",
      "29999  30000    50000.0    1          2         1   46      0      0      0   \n",
      "\n",
      "       PAY_4  ...  BILL_AMT4  BILL_AMT5  BILL_AMT6  PAY_AMT1  PAY_AMT2  \\\n",
      "0         -1  ...        0.0        0.0        0.0       0.0     689.0   \n",
      "1          0  ...     3272.0     3455.0     3261.0       0.0    1000.0   \n",
      "2          0  ...    14331.0    14948.0    15549.0    1518.0    1500.0   \n",
      "3          0  ...    28314.0    28959.0    29547.0    2000.0    2019.0   \n",
      "4          0  ...    20940.0    19146.0    19131.0    2000.0   36681.0   \n",
      "5          0  ...    19394.0    19619.0    20024.0    2500.0    1815.0   \n",
      "6          0  ...   542653.0   483003.0   473944.0   55000.0   40000.0   \n",
      "7          0  ...      221.0     -159.0      567.0     380.0     601.0   \n",
      "8          0  ...    12211.0    11793.0     3719.0    3329.0       0.0   \n",
      "9         -2  ...        0.0    13007.0    13912.0       0.0       0.0   \n",
      "10         0  ...     2513.0     1828.0     3731.0    2306.0      12.0   \n",
      "11        -1  ...     8517.0    22287.0    13668.0   21818.0    9966.0   \n",
      "12        -1  ...     6500.0     6500.0     2870.0    1000.0    6500.0   \n",
      "13         0  ...    66782.0    36137.0    36894.0    3200.0       0.0   \n",
      "14         0  ...    59696.0    56875.0    55512.0    3000.0    3000.0   \n",
      "15         0  ...    28771.0    29531.0    30211.0       0.0    1500.0   \n",
      "16         2  ...    18338.0    17905.0    19104.0    3200.0       0.0   \n",
      "17        -1  ...    70074.0     5856.0   195599.0   10358.0   10000.0   \n",
      "18        -2  ...        0.0        0.0        0.0       0.0       0.0   \n",
      "19        -2  ...        0.0        0.0        0.0       0.0       0.0   \n",
      "20         0  ...    20616.0    11802.0      930.0    3000.0    1537.0   \n",
      "21        -1  ...        0.0      632.0      316.0     316.0     316.0   \n",
      "22         2  ...    44006.0    46905.0    46012.0    2007.0    3582.0   \n",
      "23        -2  ...      560.0        0.0        0.0   19428.0    1473.0   \n",
      "24        -1  ...     5398.0     6360.0     8292.0    5757.0       0.0   \n",
      "25         0  ...    28967.0    29829.0    30046.0    1973.0    1426.0   \n",
      "26        -1  ...      -57.0      127.0     -189.0       0.0    1000.0   \n",
      "27         0  ...    17878.0    18931.0    19617.0    1300.0    1300.0   \n",
      "28        -1  ...     2040.0    30430.0      257.0    3415.0    3421.0   \n",
      "29         0  ...    17907.0    18375.0    11400.0    1500.0    1500.0   \n",
      "...      ...  ...        ...        ...        ...       ...       ...   \n",
      "29970      0  ...    49005.0     8676.0    19487.0   52951.0   64535.0   \n",
      "29971      0  ...    69674.0    71070.0    73612.0    2395.0    2500.0   \n",
      "29972      0  ...    29223.0    19616.0   148482.0    2000.0    3869.0   \n",
      "29973     -2  ...        0.0        0.0        0.0       0.0       0.0   \n",
      "29974      2  ...     2846.0     1585.0     1324.0       0.0    3000.0   \n",
      "29975     -1  ...     5924.0     1759.0     1824.0    8840.0    6643.0   \n",
      "29976      2  ...    51259.0    47151.0    46934.0    4000.0       0.0   \n",
      "29977      0  ...   141695.0   144839.0   147954.0    7000.0    7000.0   \n",
      "29978      0  ...   219409.0   216540.0   210675.0   10029.0    9218.0   \n",
      "29979     -2  ...        0.0        0.0        0.0       0.0       0.0   \n",
      "29980      0  ...    50360.0    19971.0    19694.0   10000.0    4000.0   \n",
      "29981      2  ...    28192.0    22676.0    14647.0    2300.0    1700.0   \n",
      "29982      0  ...    11328.0    12036.0    14329.0    1500.0    1500.0   \n",
      "29983     -2  ...     2882.0     9235.0     1719.0    2890.0    2720.0   \n",
      "29984     -1  ...     1993.0     1907.0     3319.0     923.0    2977.0   \n",
      "29985     -2  ...        0.0        0.0        0.0       0.0       0.0   \n",
      "29986     -2  ...        0.0        0.0        0.0       0.0       0.0   \n",
      "29987      0  ...   108047.0    93708.0    97353.0    3000.0    2000.0   \n",
      "29988      0  ...   245750.0   175005.0   179687.0   65000.0    8800.0   \n",
      "29989     -1  ...      780.0        0.0        0.0    9054.0       0.0   \n",
      "29990      0  ...   138262.0    49675.0    46121.0    6000.0    7000.0   \n",
      "29991      2  ...     2500.0     2500.0     2500.0       0.0       0.0   \n",
      "29992     -2  ...        0.0        0.0        0.0    2000.0       0.0   \n",
      "29993      0  ...    70626.0    69473.0    55004.0    2000.0  111784.0   \n",
      "29994      2  ...    77519.0    82607.0    81158.0    7000.0    3500.0   \n",
      "29995      0  ...    88004.0    31237.0    15980.0    8500.0   20000.0   \n",
      "29996     -1  ...     8979.0     5190.0        0.0    1837.0    3526.0   \n",
      "29997     -1  ...    20878.0    20582.0    19357.0       0.0       0.0   \n",
      "29998      0  ...    52774.0    11855.0    48944.0   85900.0    3409.0   \n",
      "29999      0  ...    36535.0    32428.0    15313.0    2078.0    1800.0   \n",
      "\n",
      "       PAY_AMT3  PAY_AMT4  PAY_AMT5  PAY_AMT6  default.payment.next.month  \n",
      "0           0.0       0.0       0.0       0.0                           1  \n",
      "1        1000.0    1000.0       0.0    2000.0                           1  \n",
      "2        1000.0    1000.0    1000.0    5000.0                           0  \n",
      "3        1200.0    1100.0    1069.0    1000.0                           0  \n",
      "4       10000.0    9000.0     689.0     679.0                           0  \n",
      "5         657.0    1000.0    1000.0     800.0                           0  \n",
      "6       38000.0   20239.0   13750.0   13770.0                           0  \n",
      "7           0.0     581.0    1687.0    1542.0                           0  \n",
      "8         432.0    1000.0    1000.0    1000.0                           0  \n",
      "9           0.0   13007.0    1122.0       0.0                           0  \n",
      "10         50.0     300.0    3738.0      66.0                           0  \n",
      "11       8583.0   22301.0       0.0    3640.0                           0  \n",
      "12       6500.0    6500.0    2870.0       0.0                           0  \n",
      "13       3000.0    3000.0    1500.0       0.0                           1  \n",
      "14       3000.0    3000.0    3000.0    3000.0                           0  \n",
      "15       1100.0    1200.0    1300.0    1100.0                           0  \n",
      "16       1500.0       0.0    1650.0       0.0                           1  \n",
      "17      75940.0   20000.0  195599.0   50000.0                           0  \n",
      "18          0.0       0.0       0.0       0.0                           0  \n",
      "19          0.0       0.0       0.0       0.0                           0  \n",
      "20       1000.0    2000.0     930.0   33764.0                           0  \n",
      "21          0.0     632.0     316.0       0.0                           1  \n",
      "22          0.0    3601.0       0.0    1820.0                           1  \n",
      "23        560.0       0.0       0.0    1128.0                           1  \n",
      "24       5398.0    1200.0    2045.0    2000.0                           0  \n",
      "25       1001.0    1432.0    1062.0     997.0                           0  \n",
      "26          0.0     500.0       0.0    1000.0                           1  \n",
      "27       1000.0    1500.0    1000.0    1012.0                           0  \n",
      "28       2044.0   30430.0     257.0       0.0                           0  \n",
      "29       1000.0    1000.0    1600.0       0.0                           0  \n",
      "...         ...       ...       ...       ...                         ...  \n",
      "29970    8907.0      53.0   19584.0   16080.0                           0  \n",
      "29971    2530.0    2556.0    3700.0    3000.0                           0  \n",
      "29972   25128.0   10115.0  148482.0    4800.0                           0  \n",
      "29973       0.0       0.0       0.0       0.0                           1  \n",
      "29974       0.0       0.0    1000.0    1000.0                           1  \n",
      "29975    5924.0    1759.0    1824.0    7022.0                           0  \n",
      "29976    2000.0       0.0    3520.0       0.0                           1  \n",
      "29977    5500.0    5500.0    5600.0    5000.0                           0  \n",
      "29978   10029.0    8049.0    8040.0   10059.0                           0  \n",
      "29979       0.0       0.0       0.0       0.0                           0  \n",
      "29980    5000.0    3000.0    4500.0    2000.0                           0  \n",
      "29981       0.0     517.0     503.0     585.0                           0  \n",
      "29982    1500.0    1200.0    2500.0       0.0                           1  \n",
      "29983    2890.0    9263.0    1824.0    1701.0                           0  \n",
      "29984    1999.0    3057.0    3319.0    1000.0                           0  \n",
      "29985       0.0       0.0       0.0       0.0                           0  \n",
      "29986       0.0       0.0       0.0       0.0                           0  \n",
      "29987   93000.0    4000.0    5027.0    4005.0                           0  \n",
      "29988    9011.0    6000.0    7000.0    6009.0                           0  \n",
      "29989     783.0       0.0       0.0       0.0                           0  \n",
      "29990    4228.0    1505.0    2000.0    2000.0                           0  \n",
      "29991       0.0       0.0       0.0       0.0                           1  \n",
      "29992       0.0       0.0       0.0       0.0                           0  \n",
      "29993    4000.0    3000.0    2000.0    2000.0                           0  \n",
      "29994       0.0    7000.0       0.0    4000.0                           1  \n",
      "29995    5003.0    3047.0    5000.0    1000.0                           0  \n",
      "29996    8998.0     129.0       0.0       0.0                           0  \n",
      "29997   22000.0    4200.0    2000.0    3100.0                           1  \n",
      "29998    1178.0    1926.0   52964.0    1804.0                           1  \n",
      "29999    1430.0    1000.0    1000.0    1000.0                           1  \n",
      "\n",
      "[30000 rows x 25 columns]>\n"
     ]
    }
   ],
   "source": [
    "print(data.describe)"
   ]
  },
  {
   "cell_type": "code",
   "execution_count": 9,
   "metadata": {},
   "outputs": [
    {
     "name": "stdout",
     "output_type": "stream",
     "text": [
      "0    23364\n",
      "1     6636\n",
      "Name: default.payment.next.month, dtype: int64\n"
     ]
    }
   ],
   "source": [
    "next_month = data['default.payment.next.month'].value_counts()\n",
    "print(next_month)"
   ]
  },
  {
   "cell_type": "markdown",
   "metadata": {},
   "source": [
    "#### plot"
   ]
  },
  {
   "cell_type": "code",
   "execution_count": 11,
   "metadata": {},
   "outputs": [
    {
     "data": {
      "image/png": "[encoded data removed]",
      "text/plain": [
       "<Figure size 432x432 with 1 Axes>"
      ]
     },
     "metadata": {
      "needs_background": "light"
     },
     "output_type": "display_data"
    }
   ],
   "source": [
    "df = pd.DataFrame({'default.payment.next.month': next_month.index,'values': next_month.values})\n",
    "plt.figure(figsize = (6,6))\n",
    "plt.title('default\\n (default：1，None：0)')\n",
    "sns.set_color_codes(\"pastel\")\n",
    "sns.barplot(x = 'default.payment.next.month', y=\"values\", data=df)\n",
    "locs, labels = plt.xticks()\n",
    "plt.show()"
   ]
  },
  {
   "cell_type": "markdown",
   "metadata": {},
   "source": [
    "#### define features and target"
   ]
  },
  {
   "cell_type": "code",
   "execution_count": 13,
   "metadata": {},
   "outputs": [],
   "source": [
    "data.drop(['ID'],inplace=True,axis=1)\n",
    "target=data['default.payment.next.month'].values\n",
    "columns = data.columns.tolist()\n",
    "columns.remove('default.payment.next.month')\n",
    "features = data[columns].values"
   ]
  },
  {
   "cell_type": "markdown",
   "metadata": {},
   "source": [
    "#### split train data and test data"
   ]
  },
  {
   "cell_type": "code",
   "execution_count": 14,
   "metadata": {},
   "outputs": [],
   "source": [
    "train_x,test_x,train_y,test_y = train_test_split(features,target,test_size=0.3,stratify = target,random_state=1)"
   ]
  },
  {
   "cell_type": "markdown",
   "metadata": {},
   "source": [
    "#### classifiers"
   ]
  },
  {
   "cell_type": "code",
   "execution_count": 21,
   "metadata": {},
   "outputs": [],
   "source": [
    "classifiers = [\n",
    "    SVC(random_state=1,kernel='rbf'),\n",
    "    DecisionTreeClassifier(random_state=1,criterion = 'gini'),\n",
    "    RandomForestClassifier(random_state=1,criterion = 'gini'),\n",
    "    KNeighborsClassifier(metric='minkowski'),\n",
    "]\n",
    "\n",
    "classifier_names = [\n",
    "    'svc',\n",
    "    'decisiontreeclassifier',\n",
    "    'randomforestclassifier',\n",
    "    'kneighborsclassifier',\n",
    "]\n",
    "\n",
    "classifier_param_grid =[\n",
    "    {'svc__C':[1],'svc__gamma':[0.01]},\n",
    "    {'decisiontreeclassifier__max_depth':[6,9,11]},\n",
    "    {'randomforestclassifier__n_estimators':[3,5,6]},\n",
    "    {'kneighborsclassifier__n_neighbors':[4,6,8]},\n",
    "]"
   ]
  },
  {
   "cell_type": "code",
   "execution_count": 22,
   "metadata": {},
   "outputs": [
    {
     "name": "stderr",
     "output_type": "stream",
     "text": [
      "//anaconda3/lib/python3.7/site-packages/sklearn/model_selection/_split.py:1978: FutureWarning: The default value of cv will change from 3 to 5 in version 0.22. Specify it explicitly to silence this warning.\n",
      "  warnings.warn(CV_WARNING, FutureWarning)\n"
     ]
    },
    {
     "name": "stdout",
     "output_type": "stream",
     "text": [
      "the best parameter: {'svc__C': 1, 'svc__gamma': 0.01}\n",
      "the best score: 0.8173809523809524\n",
      "accuracy: 0.8172222222222222\n"
     ]
    },
    {
     "name": "stderr",
     "output_type": "stream",
     "text": [
      "//anaconda3/lib/python3.7/site-packages/sklearn/model_selection/_split.py:1978: FutureWarning: The default value of cv will change from 3 to 5 in version 0.22. Specify it explicitly to silence this warning.\n",
      "  warnings.warn(CV_WARNING, FutureWarning)\n"
     ]
    },
    {
     "name": "stdout",
     "output_type": "stream",
     "text": [
      "the best parameter: {'decisiontreeclassifier__max_depth': 6}\n",
      "the best score: 0.8186190476190476\n",
      "accuracy: 0.8113333333333334\n"
     ]
    },
    {
     "name": "stderr",
     "output_type": "stream",
     "text": [
      "//anaconda3/lib/python3.7/site-packages/sklearn/model_selection/_split.py:1978: FutureWarning: The default value of cv will change from 3 to 5 in version 0.22. Specify it explicitly to silence this warning.\n",
      "  warnings.warn(CV_WARNING, FutureWarning)\n"
     ]
    },
    {
     "name": "stdout",
     "output_type": "stream",
     "text": [
      "the best parameter: {'randomforestclassifier__n_estimators': 6}\n",
      "the best score: 0.7998095238095239\n",
      "accuracy: 0.7994444444444444\n"
     ]
    },
    {
     "name": "stderr",
     "output_type": "stream",
     "text": [
      "//anaconda3/lib/python3.7/site-packages/sklearn/model_selection/_split.py:1978: FutureWarning: The default value of cv will change from 3 to 5 in version 0.22. Specify it explicitly to silence this warning.\n",
      "  warnings.warn(CV_WARNING, FutureWarning)\n"
     ]
    },
    {
     "name": "stdout",
     "output_type": "stream",
     "text": [
      "the best parameter: {'kneighborsclassifier__n_neighbors': 8}\n",
      "the best score: 0.804047619047619\n",
      "accuracy: 0.8035555555555556\n"
     ]
    }
   ],
   "source": [
    "def gridsearchcv_work(pipeline,train_x,train_y,test_x,test_y,param_grid,score='accuracy'):\n",
    "    response ={}\n",
    "    gridsearch=GridSearchCV(estimator = pipeline,param_grid=param_grid,scoring=score)\n",
    "    search = gridsearch.fit(train_x,train_y)\n",
    "    print('the best parameter:',search.best_params_)\n",
    "    print('the best score:',search.best_score_)\n",
    "    predict_y = gridsearch.predict(test_x)\n",
    "    print('accuracy:',accuracy_score(test_y,predict_y))\n",
    "    response['predict_y']=predict_y\n",
    "    response['accuracy_score']=accuracy_score(test_y,predict_y)\n",
    "    return response\n",
    "\n",
    "for model,model_name,model_param_grid in zip(classifiers,classifier_names,classifier_param_grid):\n",
    "    pipeline=Pipeline(\n",
    "    [('scaler',StandardScaler()),(model_name,model)]\n",
    "    )\n",
    "    result = gridsearchcv_work(pipeline,train_x,train_y,test_x,test_y,model_param_grid,score='accuracy')"
   ]
  },
  {
   "cell_type": "code",
   "execution_count": 24,
   "metadata": {},
   "outputs": [
    {
     "name": "stderr",
     "output_type": "stream",
     "text": [
      "//anaconda3/lib/python3.7/site-packages/sklearn/model_selection/_split.py:1978: FutureWarning: The default value of cv will change from 3 to 5 in version 0.22. Specify it explicitly to silence this warning.\n",
      "  warnings.warn(CV_WARNING, FutureWarning)\n"
     ]
    },
    {
     "name": "stdout",
     "output_type": "stream",
     "text": [
      "the best parameter: {'AdaB__n_estimators': 10}\n",
      "the best score: 0.8186666666666667\n",
      "accuracy: 0.8128888888888889\n"
     ]
    }
   ],
   "source": [
    "from sklearn.ensemble import AdaBoostClassifier\n",
    "pipeline=Pipeline(\n",
    "    [('scaler',StandardScaler()),('AdaB',AdaBoostClassifier(random_state=1))]\n",
    "    )\n",
    "model_param_grid ={'AdaB__n_estimators':[10,50,100]}\n",
    "result = gridsearchcv_work(pipeline,train_x,train_y,test_x,test_y,model_param_grid,score='accuracy')"
   ]
  }
 ],
 "metadata": {
  "kernelspec": {
   "display_name": "Python 3",
   "language": "python",
   "name": "python3"
  },
  "language_info": {
   "codemirror_mode": {
    "name": "ipython",
    "version": 3
   },
   "file_extension": ".py",
   "mimetype": "text/x-python",
   "name": "python",
   "nbconvert_exporter": "python",
   "pygments_lexer": "ipython3",
   "version": "3.7.3"
  }
 },
 "nbformat": 4,
 "nbformat_minor": 2
}
